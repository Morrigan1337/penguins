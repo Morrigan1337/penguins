{
 "cells": [
  {
   "cell_type": "markdown",
   "id": "a2cb2df6",
   "metadata": {},
   "source": [
    "The goal of this project is to make a rudementary linear regression model that uses the flipper length of penguins to predict their mass. I begin with the standard imports."
   ]
  },
  {
   "cell_type": "code",
   "execution_count": 1,
   "id": "fe373180",
   "metadata": {},
   "outputs": [],
   "source": [
    "#imports\n",
    "import pandas as pd\n",
    "import numpy as np\n",
    "import matplotlib.pyplot as plt\n",
    "import seaborn as sns\n",
    "from sklearn.linear_model import LinearRegression\n",
    "from sklearn.model_selection import train_test_split\n",
    "from sklearn.metrics import r2_score"
   ]
  },
  {
   "cell_type": "code",
   "execution_count": 2,
   "id": "9b20be2d",
   "metadata": {},
   "outputs": [],
   "source": [
    "#dataset\n",
    "dataset = \"penguins\""
   ]
  },
  {
   "cell_type": "markdown",
   "id": "a8b6698b",
   "metadata": {},
   "source": [
    "I like to keep all my feature engineering and the like in one function for the sake of organization."
   ]
  },
  {
   "cell_type": "code",
   "execution_count": 3,
   "id": "aa257b71",
   "metadata": {},
   "outputs": [],
   "source": [
    "#main function\n",
    "def load(data):\n",
    "    df = sns.load_dataset(data)\n",
    "    #drop NaNs\n",
    "    df.dropna(inplace = True)\n",
    "    return df"
   ]
  },
  {
   "cell_type": "code",
   "execution_count": 4,
   "id": "4995e809",
   "metadata": {},
   "outputs": [
    {
     "data": {
      "text/html": [
       "<div>\n",
       "<style scoped>\n",
       "    .dataframe tbody tr th:only-of-type {\n",
       "        vertical-align: middle;\n",
       "    }\n",
       "\n",
       "    .dataframe tbody tr th {\n",
       "        vertical-align: top;\n",
       "    }\n",
       "\n",
       "    .dataframe thead th {\n",
       "        text-align: right;\n",
       "    }\n",
       "</style>\n",
       "<table border=\"1\" class=\"dataframe\">\n",
       "  <thead>\n",
       "    <tr style=\"text-align: right;\">\n",
       "      <th></th>\n",
       "      <th>species</th>\n",
       "      <th>island</th>\n",
       "      <th>bill_length_mm</th>\n",
       "      <th>bill_depth_mm</th>\n",
       "      <th>flipper_length_mm</th>\n",
       "      <th>body_mass_g</th>\n",
       "      <th>sex</th>\n",
       "    </tr>\n",
       "  </thead>\n",
       "  <tbody>\n",
       "    <tr>\n",
       "      <th>0</th>\n",
       "      <td>Adelie</td>\n",
       "      <td>Torgersen</td>\n",
       "      <td>39.1</td>\n",
       "      <td>18.7</td>\n",
       "      <td>181.0</td>\n",
       "      <td>3750.0</td>\n",
       "      <td>Male</td>\n",
       "    </tr>\n",
       "    <tr>\n",
       "      <th>1</th>\n",
       "      <td>Adelie</td>\n",
       "      <td>Torgersen</td>\n",
       "      <td>39.5</td>\n",
       "      <td>17.4</td>\n",
       "      <td>186.0</td>\n",
       "      <td>3800.0</td>\n",
       "      <td>Female</td>\n",
       "    </tr>\n",
       "    <tr>\n",
       "      <th>2</th>\n",
       "      <td>Adelie</td>\n",
       "      <td>Torgersen</td>\n",
       "      <td>40.3</td>\n",
       "      <td>18.0</td>\n",
       "      <td>195.0</td>\n",
       "      <td>3250.0</td>\n",
       "      <td>Female</td>\n",
       "    </tr>\n",
       "    <tr>\n",
       "      <th>4</th>\n",
       "      <td>Adelie</td>\n",
       "      <td>Torgersen</td>\n",
       "      <td>36.7</td>\n",
       "      <td>19.3</td>\n",
       "      <td>193.0</td>\n",
       "      <td>3450.0</td>\n",
       "      <td>Female</td>\n",
       "    </tr>\n",
       "    <tr>\n",
       "      <th>5</th>\n",
       "      <td>Adelie</td>\n",
       "      <td>Torgersen</td>\n",
       "      <td>39.3</td>\n",
       "      <td>20.6</td>\n",
       "      <td>190.0</td>\n",
       "      <td>3650.0</td>\n",
       "      <td>Male</td>\n",
       "    </tr>\n",
       "  </tbody>\n",
       "</table>\n",
       "</div>"
      ],
      "text/plain": [
       "  species     island  bill_length_mm  bill_depth_mm  flipper_length_mm  \\\n",
       "0  Adelie  Torgersen            39.1           18.7              181.0   \n",
       "1  Adelie  Torgersen            39.5           17.4              186.0   \n",
       "2  Adelie  Torgersen            40.3           18.0              195.0   \n",
       "4  Adelie  Torgersen            36.7           19.3              193.0   \n",
       "5  Adelie  Torgersen            39.3           20.6              190.0   \n",
       "\n",
       "   body_mass_g     sex  \n",
       "0       3750.0    Male  \n",
       "1       3800.0  Female  \n",
       "2       3250.0  Female  \n",
       "4       3450.0  Female  \n",
       "5       3650.0    Male  "
      ]
     },
     "execution_count": 4,
     "metadata": {},
     "output_type": "execute_result"
    }
   ],
   "source": [
    "#load the dataset and head\n",
    "penguins = load(dataset)\n",
    "penguins.head()"
   ]
  },
  {
   "cell_type": "markdown",
   "id": "40814e52",
   "metadata": {},
   "source": [
    "I create a regression plot using the dependent variable (mass) and the independent variable (flipper length). I also set the labels."
   ]
  },
  {
   "cell_type": "code",
   "execution_count": 5,
   "id": "53c91d75",
   "metadata": {},
   "outputs": [
    {
     "data": {
      "text/plain": [
       "Text(0, 0.5, 'Body Mass')"
      ]
     },
     "execution_count": 5,
     "metadata": {},
     "output_type": "execute_result"
    },
    {
     "data": {
      "image/png": "[encoded data removed]",
      "text/plain": [
       "<Figure size 432x288 with 1 Axes>"
      ]
     },
     "metadata": {
      "needs_background": "light"
     },
     "output_type": "display_data"
    }
   ],
   "source": [
    "#create regplot\n",
    "sns.regplot(x = \"flipper_length_mm\", y = \"body_mass_g\", data = penguins,\n",
    "           fit_reg = True)\n",
    "plt.xlabel(\"Flipper Length\")\n",
    "plt.ylabel(\"Body Mass\")"
   ]
  },
  {
   "cell_type": "markdown",
   "id": "451a870c",
   "metadata": {},
   "source": [
    "I create the feature matrix and target array here, which I will use to make the test and training sets for the model. "
   ]
  },
  {
   "cell_type": "code",
   "execution_count": 6,
   "id": "710b9450",
   "metadata": {},
   "outputs": [
    {
     "name": "stdout",
     "output_type": "stream",
     "text": [
      "The shape of the feature matrix:  (333,)\n",
      "The shape of the target array:  (333,)\n"
     ]
    }
   ],
   "source": [
    "#create the feature matrix\n",
    "X_penguins = penguins[\"flipper_length_mm\"]\n",
    "print(\"The shape of the feature matrix: \", X_penguins.shape)\n",
    "#create the target array\n",
    "y_penguins = penguins[\"body_mass_g\"]\n",
    "print(\"The shape of the target array: \", y_penguins.shape)"
   ]
  },
  {
   "cell_type": "markdown",
   "id": "92935305",
   "metadata": {},
   "source": [
    "Here I instantiate the model using LinearRegression from the Scikit-learn library."
   ]
  },
  {
   "cell_type": "code",
   "execution_count": 7,
   "id": "73402e8b",
   "metadata": {},
   "outputs": [],
   "source": [
    "#instantiate the model with default parameters\n",
    "model = LinearRegression()"
   ]
  },
  {
   "cell_type": "markdown",
   "id": "bde4dc89",
   "metadata": {},
   "source": [
    "I split the data into training and testing sets, using a 4/5 ratio with 80% being for training, 20% being for testing."
   ]
  },
  {
   "cell_type": "code",
   "execution_count": 8,
   "id": "ddff29d3",
   "metadata": {},
   "outputs": [],
   "source": [
    "#I make the training and test sets\n",
    "X_train, X_test, y_train, y_test = train_test_split(X_penguins, y_penguins,\n",
    "                                                   test_size = 0.2)"
   ]
  },
  {
   "cell_type": "markdown",
   "id": "b4049f36",
   "metadata": {},
   "source": [
    "I fit the model with the training data. I reshape X_train into a vector, which is required to be fitted to the model."
   ]
  },
  {
   "cell_type": "code",
   "execution_count": 9,
   "id": "be188160",
   "metadata": {},
   "outputs": [
    {
     "name": "stderr",
     "output_type": "stream",
     "text": [
      "<ipython-input-9-6c22221fb7fc>:2: FutureWarning: Support for multi-dimensional indexing (e.g. `obj[:, None]`) is deprecated and will be removed in a future version.  Convert to a numpy array before indexing instead.\n",
      "  X_train = X_train[:, np.newaxis]\n"
     ]
    },
    {
     "data": {
      "text/plain": [
       "LinearRegression()"
      ]
     },
     "execution_count": 9,
     "metadata": {},
     "output_type": "execute_result"
    }
   ],
   "source": [
    "#I fit the model\n",
    "X_train = X_train[:, np.newaxis]\n",
    "model.fit(X_train, y_train)"
   ]
  },
  {
   "cell_type": "markdown",
   "id": "255bfa21",
   "metadata": {},
   "source": [
    "I reshape the test data, and calculate the r2 scores for the testing and training data. Simply put, the r2 score is the difference between the samples and the predictions made by the model. As such, we would hope that the scores for the testing and training data would be similar, and indeed they are."
   ]
  },
  {
   "cell_type": "code",
   "execution_count": 10,
   "id": "6391c7a5",
   "metadata": {},
   "outputs": [
    {
     "name": "stdout",
     "output_type": "stream",
     "text": [
      "Training r2:  0.7636211037383014\n",
      "Test r2:  0.7530749682636367\n"
     ]
    },
    {
     "name": "stderr",
     "output_type": "stream",
     "text": [
      "<ipython-input-10-dee47b196cc2>:1: FutureWarning: Support for multi-dimensional indexing (e.g. `obj[:, None]`) is deprecated and will be removed in a future version.  Convert to a numpy array before indexing instead.\n",
      "  X_test = X_test[:, np.newaxis]\n"
     ]
    }
   ],
   "source": [
    "X_test = X_test[:, np.newaxis]\n",
    "training_r2 = model.score(X_train, y_train)\n",
    "test_r2 = model.score(X_test, y_test)\n",
    "print(\"Training r2: \", training_r2)\n",
    "print(\"Test r2: \", test_r2)"
   ]
  },
  {
   "cell_type": "markdown",
   "id": "bb32460d",
   "metadata": {},
   "source": [
    "Here I have the model take the X_test data and have it predict the values in y_pred. I then make a dataframe to compare the predicted and actual values with the index as the mass in grams."
   ]
  },
  {
   "cell_type": "code",
   "execution_count": 11,
   "id": "652e18a8",
   "metadata": {},
   "outputs": [
    {
     "data": {
      "text/html": [
       "<div>\n",
       "<style scoped>\n",
       "    .dataframe tbody tr th:only-of-type {\n",
       "        vertical-align: middle;\n",
       "    }\n",
       "\n",
       "    .dataframe tbody tr th {\n",
       "        vertical-align: top;\n",
       "    }\n",
       "\n",
       "    .dataframe thead th {\n",
       "        text-align: right;\n",
       "    }\n",
       "</style>\n",
       "<table border=\"1\" class=\"dataframe\">\n",
       "  <thead>\n",
       "    <tr style=\"text-align: right;\">\n",
       "      <th></th>\n",
       "      <th>Actual</th>\n",
       "      <th>Predicted</th>\n",
       "    </tr>\n",
       "  </thead>\n",
       "  <tbody>\n",
       "    <tr>\n",
       "      <th>35</th>\n",
       "      <td>4150.0</td>\n",
       "      <td>3945.205916</td>\n",
       "    </tr>\n",
       "    <tr>\n",
       "      <th>184</th>\n",
       "      <td>3350.0</td>\n",
       "      <td>3493.028060</td>\n",
       "    </tr>\n",
       "    <tr>\n",
       "      <th>131</th>\n",
       "      <td>3500.0</td>\n",
       "      <td>3995.447900</td>\n",
       "    </tr>\n",
       "    <tr>\n",
       "      <th>268</th>\n",
       "      <td>5100.0</td>\n",
       "      <td>4799.319643</td>\n",
       "    </tr>\n",
       "    <tr>\n",
       "      <th>132</th>\n",
       "      <td>3500.0</td>\n",
       "      <td>3794.479964</td>\n",
       "    </tr>\n",
       "    <tr>\n",
       "      <th>...</th>\n",
       "      <td>...</td>\n",
       "      <td>...</td>\n",
       "    </tr>\n",
       "    <tr>\n",
       "      <th>24</th>\n",
       "      <td>3800.0</td>\n",
       "      <td>3141.334173</td>\n",
       "    </tr>\n",
       "    <tr>\n",
       "      <th>189</th>\n",
       "      <td>4800.0</td>\n",
       "      <td>4648.593691</td>\n",
       "    </tr>\n",
       "    <tr>\n",
       "      <th>272</th>\n",
       "      <td>4400.0</td>\n",
       "      <td>4648.593691</td>\n",
       "    </tr>\n",
       "    <tr>\n",
       "      <th>177</th>\n",
       "      <td>4150.0</td>\n",
       "      <td>3995.447900</td>\n",
       "    </tr>\n",
       "    <tr>\n",
       "      <th>135</th>\n",
       "      <td>3900.0</td>\n",
       "      <td>3643.754012</td>\n",
       "    </tr>\n",
       "  </tbody>\n",
       "</table>\n",
       "<p>67 rows × 2 columns</p>\n",
       "</div>"
      ],
      "text/plain": [
       "     Actual    Predicted\n",
       "35   4150.0  3945.205916\n",
       "184  3350.0  3493.028060\n",
       "131  3500.0  3995.447900\n",
       "268  5100.0  4799.319643\n",
       "132  3500.0  3794.479964\n",
       "..      ...          ...\n",
       "24   3800.0  3141.334173\n",
       "189  4800.0  4648.593691\n",
       "272  4400.0  4648.593691\n",
       "177  4150.0  3995.447900\n",
       "135  3900.0  3643.754012\n",
       "\n",
       "[67 rows x 2 columns]"
      ]
     },
     "execution_count": 11,
     "metadata": {},
     "output_type": "execute_result"
    }
   ],
   "source": [
    "y_pred = model.predict(X_test)\n",
    "results = pd.DataFrame({\"Actual\": y_test, \"Predicted\": y_pred})\n",
    "results"
   ]
  }
 ],
 "metadata": {
  "kernelspec": {
   "display_name": "Python 3",
   "language": "python",
   "name": "python3"
  },
  "language_info": {
   "codemirror_mode": {
    "name": "ipython",
    "version": 3
   },
   "file_extension": ".py",
   "mimetype": "text/x-python",
   "name": "python",
   "nbconvert_exporter": "python",
   "pygments_lexer": "ipython3",
   "version": "3.8.8"
  }
 },
 "nbformat": 4,
 "nbformat_minor": 5
}
